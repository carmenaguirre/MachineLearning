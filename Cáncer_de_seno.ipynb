{
  "nbformat": 4,
  "nbformat_minor": 0,
  "metadata": {
    "colab": {
      "provenance": []
    },
    "kernelspec": {
      "name": "python3",
      "display_name": "Python 3"
    },
    "language_info": {
      "name": "python"
    }
  },
  "cells": [
    {
      "cell_type": "markdown",
      "source": [
        "# Carga y lectura de datos\n",
        "### Divide aleatoriamente el conjunto de datos de cáncer de seno de Wisconsin en un subconjunto de entrenamiento con el 60 % de los datos, un subconjunto de validación con el 20 % y un subconjunto de prueba con el 20 % restante usando 0 como semilla para tu generador de números aleatorios. Este conjunto de datos contiene 699 registros de tumores de seno, de los cuales 458 son benignos y 241 son malignos. Cada registro consta de los siguientes atributos:"
      ],
      "metadata": {
        "id": "Snd5yleq6-wx"
      }
    },
    {
      "cell_type": "code",
      "source": [
        "import pandas as pd\n",
        "import random\n",
        "import math\n",
        "import numpy as np \n",
        "import matplotlib.pyplot as plt\n",
        "from sklearn.model_selection import train_test_split\n",
        "import seaborn as sns"
      ],
      "metadata": {
        "id": "C7_uz6f17FV8"
      },
      "execution_count": 29,
      "outputs": []
    },
    {
      "cell_type": "markdown",
      "source": [
        "#####This breast cancer databases was obtained from the University of Wisconsin Hospitals, Madison from Dr. William H. Wolberg. \n",
        "\n",
        "1. Title: Wisconsin Breast Cancer Database (January 8, 1991)\n",
        "\n",
        "3. Past Usage:\n",
        "\n",
        "   Attributes 2 through 10 have been used to represent instances.\n",
        "   Each instance has one of 2 possible classes: benign or malignant.\n",
        "\n",
        "\n",
        "\n",
        "4. Relevant Information:\n",
        "\n",
        "   Samples arrive periodically as Dr. Wolberg reports his clinical cases.\n",
        "   The database therefore reflects this chronological grouping of the data.\n",
        "   This grouping information appears immediately below, having been removed\n",
        "   from the data itself:\n",
        "\n",
        "     Group 1: 367 instances (January 1989)\n",
        "     Group 2:  70 instances (October 1989)\n",
        "     Group 3:  31 instances (February 1990)\n",
        "     Group 4:  17 instances (April 1990)\n",
        "     Group 5:  48 instances (August 1990)\n",
        "     Group 6:  49 instances (Updated January 1991)\n",
        "     Group 7:  31 instances (June 1991)\n",
        "     Group 8:  86 instances (November 1991)\n",
        "     -----------------------------------------\n",
        "     Total:   699 points (as of the donated datbase on 15 July 1992)\n",
        "\n",
        "   Note that the results summarized above in Past Usage refer to a dataset\n",
        "   of size 369, while Group 1 has only 367 instances.  This is because it\n",
        "   originally contained 369 instances; 2 were removed.  The following\n",
        "   statements summarizes changes to the original Group 1's set of data:\n",
        "\n",
        "   #####  Group 1 : 367 points: 200B 167M (January 1989)\n",
        "   #####  Revised Jan 10, 1991: Replaced zero bare nuclei in 1080185 & 1187805\n",
        "   #####  Revised Nov 22,1991: Removed 765878,4,5,9,7,10,10,10,3,8,1 no record\n",
        "   #####                  : Removed 484201,2,7,8,8,4,3,10,3,4,1 zero epithelial\n",
        "   #####                  : Changed 0 to 1 in field 6 of sample 1219406\n",
        "   #####                  : Changed 0 to 1 in field 8 of following sample:\n",
        "   #####                  : 1182404,2,3,1,1,1,2,0,1,1,1\n",
        "\n",
        "5. Number of Instances: 699 (as of 15 July 1992)\n",
        "\n",
        "6. Number of Attributes: 10 plus the class attribute\n",
        "\n",
        "7. Attribute Information: (class attribute has been moved to last column)\n",
        "\n",
        "   #  Attribute                     Domain\n",
        "   -- -----------------------------------------\n",
        "   1. Sample code number            id number\n",
        "   2. Clump Thickness               1 - 10\n",
        "   3. Uniformity of Cell Size       1 - 10\n",
        "   4. Uniformity of Cell Shape      1 - 10\n",
        "   5. Marginal Adhesion             1 - 10\n",
        "   6. Single Epithelial Cell Size   1 - 10\n",
        "   7. Bare Nuclei                   1 - 10\n",
        "   8. Bland Chromatin               1 - 10\n",
        "   9. Normal Nucleoli               1 - 10\n",
        "  10. Mitoses                       1 - 10\n",
        "  11. Class:                        (2 for benign, 4 for malignant)\n",
        "\n",
        "8. Missing attribute values: 16\n",
        "\n",
        "   There are 16 instances in Groups 1 to 6 that contain a single missing \n",
        "   (i.e., unavailable) attribute value, now denoted by \"?\".  \n",
        "\n",
        "9. Class distribution:\n",
        " \n",
        "   Benign: 458 (65.5%)\n",
        "   Malignant: 241 (34.5%) "
      ],
      "metadata": {
        "id": "68fRI_w4-FSU"
      }
    },
    {
      "cell_type": "code",
      "source": [
        "url = 'http://archive.ics.uci.edu/ml/machine-learning-databases/breast-cancer-wisconsin/breast-cancer-wisconsin.data'\n",
        "df = pd.read_csv(url, sep=',', header=None)\n",
        "df.head()"
      ],
      "metadata": {
        "colab": {
          "base_uri": "https://localhost:8080/",
          "height": 206
        },
        "id": "qCfee0ka7ual",
        "outputId": "3b4bf3ea-9686-419a-c288-e02857a25bed"
      },
      "execution_count": 30,
      "outputs": [
        {
          "output_type": "execute_result",
          "data": {
            "text/plain": [
              "        0   1   2   3   4   5   6   7   8   9   10\n",
              "0  1000025   5   1   1   1   2   1   3   1   1   2\n",
              "1  1002945   5   4   4   5   7  10   3   2   1   2\n",
              "2  1015425   3   1   1   1   2   2   3   1   1   2\n",
              "3  1016277   6   8   8   1   3   4   3   7   1   2\n",
              "4  1017023   4   1   1   3   2   1   3   1   1   2"
            ],
            "text/html": [
              "\n",
              "  <div id=\"df-bcad7f6b-647a-4d41-b102-4b48d0d41518\">\n",
              "    <div class=\"colab-df-container\">\n",
              "      <div>\n",
              "<style scoped>\n",
              "    .dataframe tbody tr th:only-of-type {\n",
              "        vertical-align: middle;\n",
              "    }\n",
              "\n",
              "    .dataframe tbody tr th {\n",
              "        vertical-align: top;\n",
              "    }\n",
              "\n",
              "    .dataframe thead th {\n",
              "        text-align: right;\n",
              "    }\n",
              "</style>\n",
              "<table border=\"1\" class=\"dataframe\">\n",
              "  <thead>\n",
              "    <tr style=\"text-align: right;\">\n",
              "      <th></th>\n",
              "      <th>0</th>\n",
              "      <th>1</th>\n",
              "      <th>2</th>\n",
              "      <th>3</th>\n",
              "      <th>4</th>\n",
              "      <th>5</th>\n",
              "      <th>6</th>\n",
              "      <th>7</th>\n",
              "      <th>8</th>\n",
              "      <th>9</th>\n",
              "      <th>10</th>\n",
              "    </tr>\n",
              "  </thead>\n",
              "  <tbody>\n",
              "    <tr>\n",
              "      <th>0</th>\n",
              "      <td>1000025</td>\n",
              "      <td>5</td>\n",
              "      <td>1</td>\n",
              "      <td>1</td>\n",
              "      <td>1</td>\n",
              "      <td>2</td>\n",
              "      <td>1</td>\n",
              "      <td>3</td>\n",
              "      <td>1</td>\n",
              "      <td>1</td>\n",
              "      <td>2</td>\n",
              "    </tr>\n",
              "    <tr>\n",
              "      <th>1</th>\n",
              "      <td>1002945</td>\n",
              "      <td>5</td>\n",
              "      <td>4</td>\n",
              "      <td>4</td>\n",
              "      <td>5</td>\n",
              "      <td>7</td>\n",
              "      <td>10</td>\n",
              "      <td>3</td>\n",
              "      <td>2</td>\n",
              "      <td>1</td>\n",
              "      <td>2</td>\n",
              "    </tr>\n",
              "    <tr>\n",
              "      <th>2</th>\n",
              "      <td>1015425</td>\n",
              "      <td>3</td>\n",
              "      <td>1</td>\n",
              "      <td>1</td>\n",
              "      <td>1</td>\n",
              "      <td>2</td>\n",
              "      <td>2</td>\n",
              "      <td>3</td>\n",
              "      <td>1</td>\n",
              "      <td>1</td>\n",
              "      <td>2</td>\n",
              "    </tr>\n",
              "    <tr>\n",
              "      <th>3</th>\n",
              "      <td>1016277</td>\n",
              "      <td>6</td>\n",
              "      <td>8</td>\n",
              "      <td>8</td>\n",
              "      <td>1</td>\n",
              "      <td>3</td>\n",
              "      <td>4</td>\n",
              "      <td>3</td>\n",
              "      <td>7</td>\n",
              "      <td>1</td>\n",
              "      <td>2</td>\n",
              "    </tr>\n",
              "    <tr>\n",
              "      <th>4</th>\n",
              "      <td>1017023</td>\n",
              "      <td>4</td>\n",
              "      <td>1</td>\n",
              "      <td>1</td>\n",
              "      <td>3</td>\n",
              "      <td>2</td>\n",
              "      <td>1</td>\n",
              "      <td>3</td>\n",
              "      <td>1</td>\n",
              "      <td>1</td>\n",
              "      <td>2</td>\n",
              "    </tr>\n",
              "  </tbody>\n",
              "</table>\n",
              "</div>\n",
              "      <button class=\"colab-df-convert\" onclick=\"convertToInteractive('df-bcad7f6b-647a-4d41-b102-4b48d0d41518')\"\n",
              "              title=\"Convert this dataframe to an interactive table.\"\n",
              "              style=\"display:none;\">\n",
              "        \n",
              "  <svg xmlns=\"http://www.w3.org/2000/svg\" height=\"24px\"viewBox=\"0 0 24 24\"\n",
              "       width=\"24px\">\n",
              "    <path d=\"M0 0h24v24H0V0z\" fill=\"none\"/>\n",
              "    <path d=\"M18.56 5.44l.94 2.06.94-2.06 2.06-.94-2.06-.94-.94-2.06-.94 2.06-2.06.94zm-11 1L8.5 8.5l.94-2.06 2.06-.94-2.06-.94L8.5 2.5l-.94 2.06-2.06.94zm10 10l.94 2.06.94-2.06 2.06-.94-2.06-.94-.94-2.06-.94 2.06-2.06.94z\"/><path d=\"M17.41 7.96l-1.37-1.37c-.4-.4-.92-.59-1.43-.59-.52 0-1.04.2-1.43.59L10.3 9.45l-7.72 7.72c-.78.78-.78 2.05 0 2.83L4 21.41c.39.39.9.59 1.41.59.51 0 1.02-.2 1.41-.59l7.78-7.78 2.81-2.81c.8-.78.8-2.07 0-2.86zM5.41 20L4 18.59l7.72-7.72 1.47 1.35L5.41 20z\"/>\n",
              "  </svg>\n",
              "      </button>\n",
              "      \n",
              "  <style>\n",
              "    .colab-df-container {\n",
              "      display:flex;\n",
              "      flex-wrap:wrap;\n",
              "      gap: 12px;\n",
              "    }\n",
              "\n",
              "    .colab-df-convert {\n",
              "      background-color: #E8F0FE;\n",
              "      border: none;\n",
              "      border-radius: 50%;\n",
              "      cursor: pointer;\n",
              "      display: none;\n",
              "      fill: #1967D2;\n",
              "      height: 32px;\n",
              "      padding: 0 0 0 0;\n",
              "      width: 32px;\n",
              "    }\n",
              "\n",
              "    .colab-df-convert:hover {\n",
              "      background-color: #E2EBFA;\n",
              "      box-shadow: 0px 1px 2px rgba(60, 64, 67, 0.3), 0px 1px 3px 1px rgba(60, 64, 67, 0.15);\n",
              "      fill: #174EA6;\n",
              "    }\n",
              "\n",
              "    [theme=dark] .colab-df-convert {\n",
              "      background-color: #3B4455;\n",
              "      fill: #D2E3FC;\n",
              "    }\n",
              "\n",
              "    [theme=dark] .colab-df-convert:hover {\n",
              "      background-color: #434B5C;\n",
              "      box-shadow: 0px 1px 3px 1px rgba(0, 0, 0, 0.15);\n",
              "      filter: drop-shadow(0px 1px 2px rgba(0, 0, 0, 0.3));\n",
              "      fill: #FFFFFF;\n",
              "    }\n",
              "  </style>\n",
              "\n",
              "      <script>\n",
              "        const buttonEl =\n",
              "          document.querySelector('#df-bcad7f6b-647a-4d41-b102-4b48d0d41518 button.colab-df-convert');\n",
              "        buttonEl.style.display =\n",
              "          google.colab.kernel.accessAllowed ? 'block' : 'none';\n",
              "\n",
              "        async function convertToInteractive(key) {\n",
              "          const element = document.querySelector('#df-bcad7f6b-647a-4d41-b102-4b48d0d41518');\n",
              "          const dataTable =\n",
              "            await google.colab.kernel.invokeFunction('convertToInteractive',\n",
              "                                                     [key], {});\n",
              "          if (!dataTable) return;\n",
              "\n",
              "          const docLinkHtml = 'Like what you see? Visit the ' +\n",
              "            '<a target=\"_blank\" href=https://colab.research.google.com/notebooks/data_table.ipynb>data table notebook</a>'\n",
              "            + ' to learn more about interactive tables.';\n",
              "          element.innerHTML = '';\n",
              "          dataTable['output_type'] = 'display_data';\n",
              "          await google.colab.output.renderOutput(dataTable, element);\n",
              "          const docLink = document.createElement('div');\n",
              "          docLink.innerHTML = docLinkHtml;\n",
              "          element.appendChild(docLink);\n",
              "        }\n",
              "      </script>\n",
              "    </div>\n",
              "  </div>\n",
              "  "
            ]
          },
          "metadata": {},
          "execution_count": 30
        }
      ]
    },
    {
      "cell_type": "markdown",
      "source": [
        "#### Renombramos de acuerdo a la tabla"
      ],
      "metadata": {
        "id": "w9YCI1XTDWzM"
      }
    },
    {
      "cell_type": "code",
      "source": [
        "\n",
        "#   #  Attribute                     Domain\n",
        "#   -- -----------------------------------------\n",
        "#   1. Sample code number            id number\n",
        "#   2. Clump Thickness               1 - 10\n",
        "#   3. Uniformity of Cell Size       1 - 10\n",
        "#   4. Uniformity of Cell Shape      1 - 10\n",
        "#   5. Marginal Adhesion             1 - 10\n",
        "#   6. Single Epithelial Cell Size   1 - 10\n",
        "#   7. Bare Nuclei                   1 - 10\n",
        "#   8. Bland Chromatin               1 - 10\n",
        "#   9. Normal Nucleoli               1 - 10\n",
        "#  10. Mitoses                       1 - 10\n",
        "#  11. Class:                        (2 for benign, 4 for malignant)\n",
        "\n",
        "headers = {0 : 'id', 1 : 'Clump Thickness', 2 : 'Uniformity of Cell Size', 3 : 'Uniformity of Cell Shape', \n",
        "           4 : 'Marginal Adhesion', 5 : 'Single Epithelial Cell Size', 6 : 'Bare Nuclei', 7 : 'Bland Chromatin', \n",
        "           8 : 'Normal Nucleoli', 9 : 'Mitoses', 10 : 'Class'}\n",
        "\n",
        "df.rename(columns = headers, inplace=True) \n",
        "df.head()"
      ],
      "metadata": {
        "id": "i7JDkTad70lG",
        "colab": {
          "base_uri": "https://localhost:8080/",
          "height": 285
        },
        "outputId": "f3214fbd-38d8-43a8-f3f6-c2ddc67bf55f"
      },
      "execution_count": 31,
      "outputs": [
        {
          "output_type": "execute_result",
          "data": {
            "text/plain": [
              "        id  Clump Thickness  Uniformity of Cell Size  \\\n",
              "0  1000025                5                        1   \n",
              "1  1002945                5                        4   \n",
              "2  1015425                3                        1   \n",
              "3  1016277                6                        8   \n",
              "4  1017023                4                        1   \n",
              "\n",
              "   Uniformity of Cell Shape  Marginal Adhesion  Single Epithelial Cell Size  \\\n",
              "0                         1                  1                            2   \n",
              "1                         4                  5                            7   \n",
              "2                         1                  1                            2   \n",
              "3                         8                  1                            3   \n",
              "4                         1                  3                            2   \n",
              "\n",
              "  Bare Nuclei  Bland Chromatin  Normal Nucleoli  Mitoses  Class  \n",
              "0           1                3                1        1      2  \n",
              "1          10                3                2        1      2  \n",
              "2           2                3                1        1      2  \n",
              "3           4                3                7        1      2  \n",
              "4           1                3                1        1      2  "
            ],
            "text/html": [
              "\n",
              "  <div id=\"df-68ce9705-66cb-4b57-9169-388aee3d61e0\">\n",
              "    <div class=\"colab-df-container\">\n",
              "      <div>\n",
              "<style scoped>\n",
              "    .dataframe tbody tr th:only-of-type {\n",
              "        vertical-align: middle;\n",
              "    }\n",
              "\n",
              "    .dataframe tbody tr th {\n",
              "        vertical-align: top;\n",
              "    }\n",
              "\n",
              "    .dataframe thead th {\n",
              "        text-align: right;\n",
              "    }\n",
              "</style>\n",
              "<table border=\"1\" class=\"dataframe\">\n",
              "  <thead>\n",
              "    <tr style=\"text-align: right;\">\n",
              "      <th></th>\n",
              "      <th>id</th>\n",
              "      <th>Clump Thickness</th>\n",
              "      <th>Uniformity of Cell Size</th>\n",
              "      <th>Uniformity of Cell Shape</th>\n",
              "      <th>Marginal Adhesion</th>\n",
              "      <th>Single Epithelial Cell Size</th>\n",
              "      <th>Bare Nuclei</th>\n",
              "      <th>Bland Chromatin</th>\n",
              "      <th>Normal Nucleoli</th>\n",
              "      <th>Mitoses</th>\n",
              "      <th>Class</th>\n",
              "    </tr>\n",
              "  </thead>\n",
              "  <tbody>\n",
              "    <tr>\n",
              "      <th>0</th>\n",
              "      <td>1000025</td>\n",
              "      <td>5</td>\n",
              "      <td>1</td>\n",
              "      <td>1</td>\n",
              "      <td>1</td>\n",
              "      <td>2</td>\n",
              "      <td>1</td>\n",
              "      <td>3</td>\n",
              "      <td>1</td>\n",
              "      <td>1</td>\n",
              "      <td>2</td>\n",
              "    </tr>\n",
              "    <tr>\n",
              "      <th>1</th>\n",
              "      <td>1002945</td>\n",
              "      <td>5</td>\n",
              "      <td>4</td>\n",
              "      <td>4</td>\n",
              "      <td>5</td>\n",
              "      <td>7</td>\n",
              "      <td>10</td>\n",
              "      <td>3</td>\n",
              "      <td>2</td>\n",
              "      <td>1</td>\n",
              "      <td>2</td>\n",
              "    </tr>\n",
              "    <tr>\n",
              "      <th>2</th>\n",
              "      <td>1015425</td>\n",
              "      <td>3</td>\n",
              "      <td>1</td>\n",
              "      <td>1</td>\n",
              "      <td>1</td>\n",
              "      <td>2</td>\n",
              "      <td>2</td>\n",
              "      <td>3</td>\n",
              "      <td>1</td>\n",
              "      <td>1</td>\n",
              "      <td>2</td>\n",
              "    </tr>\n",
              "    <tr>\n",
              "      <th>3</th>\n",
              "      <td>1016277</td>\n",
              "      <td>6</td>\n",
              "      <td>8</td>\n",
              "      <td>8</td>\n",
              "      <td>1</td>\n",
              "      <td>3</td>\n",
              "      <td>4</td>\n",
              "      <td>3</td>\n",
              "      <td>7</td>\n",
              "      <td>1</td>\n",
              "      <td>2</td>\n",
              "    </tr>\n",
              "    <tr>\n",
              "      <th>4</th>\n",
              "      <td>1017023</td>\n",
              "      <td>4</td>\n",
              "      <td>1</td>\n",
              "      <td>1</td>\n",
              "      <td>3</td>\n",
              "      <td>2</td>\n",
              "      <td>1</td>\n",
              "      <td>3</td>\n",
              "      <td>1</td>\n",
              "      <td>1</td>\n",
              "      <td>2</td>\n",
              "    </tr>\n",
              "  </tbody>\n",
              "</table>\n",
              "</div>\n",
              "      <button class=\"colab-df-convert\" onclick=\"convertToInteractive('df-68ce9705-66cb-4b57-9169-388aee3d61e0')\"\n",
              "              title=\"Convert this dataframe to an interactive table.\"\n",
              "              style=\"display:none;\">\n",
              "        \n",
              "  <svg xmlns=\"http://www.w3.org/2000/svg\" height=\"24px\"viewBox=\"0 0 24 24\"\n",
              "       width=\"24px\">\n",
              "    <path d=\"M0 0h24v24H0V0z\" fill=\"none\"/>\n",
              "    <path d=\"M18.56 5.44l.94 2.06.94-2.06 2.06-.94-2.06-.94-.94-2.06-.94 2.06-2.06.94zm-11 1L8.5 8.5l.94-2.06 2.06-.94-2.06-.94L8.5 2.5l-.94 2.06-2.06.94zm10 10l.94 2.06.94-2.06 2.06-.94-2.06-.94-.94-2.06-.94 2.06-2.06.94z\"/><path d=\"M17.41 7.96l-1.37-1.37c-.4-.4-.92-.59-1.43-.59-.52 0-1.04.2-1.43.59L10.3 9.45l-7.72 7.72c-.78.78-.78 2.05 0 2.83L4 21.41c.39.39.9.59 1.41.59.51 0 1.02-.2 1.41-.59l7.78-7.78 2.81-2.81c.8-.78.8-2.07 0-2.86zM5.41 20L4 18.59l7.72-7.72 1.47 1.35L5.41 20z\"/>\n",
              "  </svg>\n",
              "      </button>\n",
              "      \n",
              "  <style>\n",
              "    .colab-df-container {\n",
              "      display:flex;\n",
              "      flex-wrap:wrap;\n",
              "      gap: 12px;\n",
              "    }\n",
              "\n",
              "    .colab-df-convert {\n",
              "      background-color: #E8F0FE;\n",
              "      border: none;\n",
              "      border-radius: 50%;\n",
              "      cursor: pointer;\n",
              "      display: none;\n",
              "      fill: #1967D2;\n",
              "      height: 32px;\n",
              "      padding: 0 0 0 0;\n",
              "      width: 32px;\n",
              "    }\n",
              "\n",
              "    .colab-df-convert:hover {\n",
              "      background-color: #E2EBFA;\n",
              "      box-shadow: 0px 1px 2px rgba(60, 64, 67, 0.3), 0px 1px 3px 1px rgba(60, 64, 67, 0.15);\n",
              "      fill: #174EA6;\n",
              "    }\n",
              "\n",
              "    [theme=dark] .colab-df-convert {\n",
              "      background-color: #3B4455;\n",
              "      fill: #D2E3FC;\n",
              "    }\n",
              "\n",
              "    [theme=dark] .colab-df-convert:hover {\n",
              "      background-color: #434B5C;\n",
              "      box-shadow: 0px 1px 3px 1px rgba(0, 0, 0, 0.15);\n",
              "      filter: drop-shadow(0px 1px 2px rgba(0, 0, 0, 0.3));\n",
              "      fill: #FFFFFF;\n",
              "    }\n",
              "  </style>\n",
              "\n",
              "      <script>\n",
              "        const buttonEl =\n",
              "          document.querySelector('#df-68ce9705-66cb-4b57-9169-388aee3d61e0 button.colab-df-convert');\n",
              "        buttonEl.style.display =\n",
              "          google.colab.kernel.accessAllowed ? 'block' : 'none';\n",
              "\n",
              "        async function convertToInteractive(key) {\n",
              "          const element = document.querySelector('#df-68ce9705-66cb-4b57-9169-388aee3d61e0');\n",
              "          const dataTable =\n",
              "            await google.colab.kernel.invokeFunction('convertToInteractive',\n",
              "                                                     [key], {});\n",
              "          if (!dataTable) return;\n",
              "\n",
              "          const docLinkHtml = 'Like what you see? Visit the ' +\n",
              "            '<a target=\"_blank\" href=https://colab.research.google.com/notebooks/data_table.ipynb>data table notebook</a>'\n",
              "            + ' to learn more about interactive tables.';\n",
              "          element.innerHTML = '';\n",
              "          dataTable['output_type'] = 'display_data';\n",
              "          await google.colab.output.renderOutput(dataTable, element);\n",
              "          const docLink = document.createElement('div');\n",
              "          docLink.innerHTML = docLinkHtml;\n",
              "          element.appendChild(docLink);\n",
              "        }\n",
              "      </script>\n",
              "    </div>\n",
              "  </div>\n",
              "  "
            ]
          },
          "metadata": {},
          "execution_count": 31
        }
      ]
    },
    {
      "cell_type": "markdown",
      "source": [
        "### Reemplazamos los valores ?"
      ],
      "metadata": {
        "id": "306g0KS8Dfws"
      }
    },
    {
      "cell_type": "code",
      "source": [
        "df_full =  df\n",
        "df = df.drop(df[df['Bare Nuclei'] == '?'].index) # Dataframe sin registros con valores no específicados\n",
        "df = df.astype(int)"
      ],
      "metadata": {
        "id": "FIe9ob0-DDaN"
      },
      "execution_count": 32,
      "outputs": []
    },
    {
      "cell_type": "markdown",
      "source": [
        "### Entrena distintos clasificadores de tumores de seno y evalúalos tanto con el subconjunto de entrenamiento como con el subconjunto de validación y discute su desempeño. Existen 16 registros en el conjunto de datos con un atributo no especificado. Investiga estrategias para rellenar los datos faltantes, utiliza las que consideres más adecuadas para este problema y discute el impacto en el desempeño del clasificador. Reporta el porcentaje de predicciones correctas en el subconjunto de prueba para el clasificador con mejor rendimiento en el subconjunto de validación."
      ],
      "metadata": {
        "id": "FKMrxi7HGV9b"
      }
    },
    {
      "cell_type": "code",
      "source": [
        "# Dividimos el conjunto de datos en dos de acuerdo a si son benignos y malignos\n",
        "df_benigno = df[df['Class'] == 2]\n",
        "df_maligno = df[df['Class'] == 4]\n",
        "# Contamos la cantidad de observaciones para cada uno de los subconjuntos\n",
        "n_benigno = len(df_benigno)\n",
        "n_maligno = len(df_maligno)\n",
        "\n",
        "print(f'El total de observaciones del conjunto de datos son: {len(df)}')\n",
        "print(f'La cantidad de tumores marcados como benignos del conjunto de datos es {n_benigno}.')\n",
        "print(f'La cantidad de tumores marcados como malignos del conjunto de datos es {n_maligno}.')"
      ],
      "metadata": {
        "colab": {
          "base_uri": "https://localhost:8080/"
        },
        "id": "0mGhPLTgFHCx",
        "outputId": "70b2d652-eeae-496f-86d9-89f500b42541"
      },
      "execution_count": 33,
      "outputs": [
        {
          "output_type": "stream",
          "name": "stdout",
          "text": [
            "El total de observaciones del conjunto de datos son: 683\n",
            "La cantidad de tumores marcados como benignos del conjunto de datos es 444.\n",
            "La cantidad de tumores marcados como malignos del conjunto de datos es 239.\n"
          ]
        }
      ]
    },
    {
      "cell_type": "markdown",
      "source": [
        "# Data into train and test "
      ],
      "metadata": {
        "id": "Zl9Vrm83HL2m"
      }
    },
    {
      "cell_type": "code",
      "source": [
        "X = df.loc[:, df.columns != 'Class']\n",
        "Y = df['Class']\n",
        "  \n",
        "# using the train test split function\n",
        "X_train, X_test, Y_train, Y_test = train_test_split(X, Y, \n",
        "                          test_size = 0.2,\n",
        "                          random_state = 104,\n",
        "                          train_size = 0.6, shuffle = True)\n",
        "\n",
        "# X_validacion \n",
        "  "
      ],
      "metadata": {
        "id": "dzTYfeTvHDbS"
      },
      "execution_count": 34,
      "outputs": []
    },
    {
      "cell_type": "code",
      "source": [
        "# get the validation set\n",
        "tmp = df[ ~df.index.isin(Y_train.index) ]\n",
        "tmp2 = tmp[ ~tmp.index.isin(Y_test.index) ]\n",
        "\n",
        "X_validation = tmp2.loc[:, tmp2.columns != 'Class']\n",
        "Y_validation = tmp2['Class']"
      ],
      "metadata": {
        "id": "23wVz-QBBRvy"
      },
      "execution_count": 35,
      "outputs": []
    },
    {
      "cell_type": "markdown",
      "source": [
        "# Naive Bayes\n",
        "A Naive Bayes Classifier determines the probability that an example belongs to some class, calculating the probability that an event will occur given that some input event has occurred.\n",
        "\n",
        "When it does this calculation it is assumed that all the predictors of a class have the same effect on the outcome, that the predictors are independent."
      ],
      "metadata": {
        "id": "QdyrAKb5TP52"
      }
    },
    {
      "cell_type": "code",
      "source": [
        "from sklearn.naive_bayes import MultinomialNB\n",
        "from sklearn.naive_bayes import GaussianNB\n",
        "from sklearn.naive_bayes import CategoricalNB\n",
        "from sklearn.naive_bayes import BernoulliNB\n",
        "\n",
        "from sklearn.metrics import accuracy_score\n",
        "from sklearn.metrics import precision_score\n",
        "from sklearn.metrics import recall_score"
      ],
      "metadata": {
        "id": "yQ5vIjXUKCYC"
      },
      "execution_count": 36,
      "outputs": []
    },
    {
      "cell_type": "code",
      "source": [
        "def test_classifier(classifier, x_train, y_train, x_test, y_test):\n",
        "  model = classifier\n",
        "  model.fit(x_train, y_train)\n",
        "\n",
        "  y_train_m = np.mean(y_train == model.predict(x_train))\n",
        "  y_test_m = np.mean(y_test == model.predict(x_test))\n",
        "\n",
        "  y_pred = model.predict(x_test)\n",
        "\n",
        "  accuracy = accuracy_score(y_test, y_pred)\n",
        "  precision = precision_score(y_test, y_pred,  average=\"binary\", pos_label = 2)\n",
        "  recall = recall_score(y_test, y_pred, average =\"binary\", pos_label = 2)\n",
        "\n",
        "  # print de resultados\n",
        "  print('\\nPerformance para: ', classifier)\n",
        "  print(f'Para el conjunto de entrenamiento: {y_train_m*100:.2f}%')\n",
        "  print(f'Para el conjunto de prueba: {y_test_m*100:.2f}%')\n",
        "  print(\"Accuracy_score: \", accuracy)\n",
        "  #print(\"Precision:\", precision)\n",
        "  #print(\"Recall:\", recall)  \n",
        " # return y_train, y_test"
      ],
      "metadata": {
        "id": "lapghxpZVucy"
      },
      "execution_count": 37,
      "outputs": []
    },
    {
      "cell_type": "code",
      "source": [
        "to_test =[MultinomialNB(), GaussianNB(), CategoricalNB(), BernoulliNB()]\n",
        "for i in range(len(to_test)):\n",
        "  classifier = to_test[i]\n",
        "  test_classifier(classifier, X_train, Y_train, X_test, Y_test)"
      ],
      "metadata": {
        "colab": {
          "base_uri": "https://localhost:8080/"
        },
        "id": "0M7bkPhGXQtg",
        "outputId": "98bb6254-f9f3-4cde-a981-b8a115fb69df"
      },
      "execution_count": 38,
      "outputs": [
        {
          "output_type": "stream",
          "name": "stdout",
          "text": [
            "\n",
            "Performance para:  MultinomialNB()\n",
            "Para el conjunto de entrenamiento: 94.87%\n",
            "Para el conjunto de prueba: 94.16%\n",
            "Accuracy_score:  0.9416058394160584\n",
            "\n",
            "Performance para:  GaussianNB()\n",
            "Para el conjunto de entrenamiento: 87.53%\n",
            "Para el conjunto de prueba: 91.97%\n",
            "Accuracy_score:  0.9197080291970803\n",
            "\n",
            "Performance para:  CategoricalNB()\n",
            "Para el conjunto de entrenamiento: 97.31%\n",
            "Para el conjunto de prueba: 97.81%\n",
            "Accuracy_score:  0.9781021897810219\n",
            "\n",
            "Performance para:  BernoulliNB()\n",
            "Para el conjunto de entrenamiento: 66.01%\n",
            "Para el conjunto de prueba: 64.96%\n",
            "Accuracy_score:  0.6496350364963503\n"
          ]
        }
      ]
    },
    {
      "cell_type": "markdown",
      "source": [
        "# K-Nearest Neighbors\n",
        "K-Nearest Neighbors operates by checking the distance from some test example to the known values of some training example. The group of data points/class that would give the smallest distance between the training points and the testing point is the class that is selected."
      ],
      "metadata": {
        "id": "ybqB650PSGXT"
      }
    },
    {
      "cell_type": "code",
      "source": [
        "from sklearn.neighbors import KNeighborsClassifier"
      ],
      "metadata": {
        "id": "tGLpgNvaQ-ZW"
      },
      "execution_count": 39,
      "outputs": []
    },
    {
      "cell_type": "code",
      "source": [
        "# KNN model requires you to specify n_neighbors,\n",
        "# the number of points the classifier will look at to determine what class a new point belongs to\n",
        "KNN_model = KNeighborsClassifier(n_neighbors = 5)\n",
        "test_classifier(KNN_model, X_train, Y_train, X_test, Y_test)\n",
        "\n",
        "# we will to test the model whit different n_neighbors\n",
        "evaluation_train = [None] * 11\n",
        "evaluation_test = [None] * 11\n",
        "for i in range(1, 11):\n",
        "  KNN_model = KNeighborsClassifier(n_neighbors = i)\n",
        "  test_classifier( KNN_model, X_train, Y_train, X_test, Y_test)"
      ],
      "metadata": {
        "colab": {
          "base_uri": "https://localhost:8080/"
        },
        "id": "eCHEKHLDaV1D",
        "outputId": "9c6984bd-854e-41a3-c5cb-d1ad92a63bd0"
      },
      "execution_count": 40,
      "outputs": [
        {
          "output_type": "stream",
          "name": "stdout",
          "text": [
            "\n",
            "Performance para:  KNeighborsClassifier()\n",
            "Para el conjunto de entrenamiento: 75.31%\n",
            "Para el conjunto de prueba: 56.93%\n",
            "Accuracy_score:  0.5693430656934306\n",
            "\n",
            "Performance para:  KNeighborsClassifier(n_neighbors=1)\n",
            "Para el conjunto de entrenamiento: 100.00%\n",
            "Para el conjunto de prueba: 62.04%\n",
            "Accuracy_score:  0.6204379562043796\n",
            "\n",
            "Performance para:  KNeighborsClassifier(n_neighbors=2)\n",
            "Para el conjunto de entrenamiento: 78.00%\n",
            "Para el conjunto de prueba: 64.23%\n",
            "Accuracy_score:  0.6423357664233577\n",
            "\n",
            "Performance para:  KNeighborsClassifier(n_neighbors=3)\n",
            "Para el conjunto de entrenamiento: 79.95%\n",
            "Para el conjunto de prueba: 56.20%\n",
            "Accuracy_score:  0.5620437956204379\n",
            "\n",
            "Performance para:  KNeighborsClassifier(n_neighbors=4)\n",
            "Para el conjunto de entrenamiento: 75.55%\n",
            "Para el conjunto de prueba: 61.31%\n",
            "Accuracy_score:  0.6131386861313869\n",
            "\n",
            "Performance para:  KNeighborsClassifier()\n",
            "Para el conjunto de entrenamiento: 75.31%\n",
            "Para el conjunto de prueba: 56.93%\n",
            "Accuracy_score:  0.5693430656934306\n",
            "\n",
            "Performance para:  KNeighborsClassifier(n_neighbors=6)\n",
            "Para el conjunto de entrenamiento: 72.13%\n",
            "Para el conjunto de prueba: 60.58%\n",
            "Accuracy_score:  0.6058394160583942\n",
            "\n",
            "Performance para:  KNeighborsClassifier(n_neighbors=7)\n",
            "Para el conjunto de entrenamiento: 73.84%\n",
            "Para el conjunto de prueba: 58.39%\n",
            "Accuracy_score:  0.583941605839416\n",
            "\n",
            "Performance para:  KNeighborsClassifier(n_neighbors=8)\n",
            "Para el conjunto de entrenamiento: 71.64%\n",
            "Para el conjunto de prueba: 62.04%\n",
            "Accuracy_score:  0.6204379562043796\n",
            "\n",
            "Performance para:  KNeighborsClassifier(n_neighbors=9)\n",
            "Para el conjunto de entrenamiento: 72.37%\n",
            "Para el conjunto de prueba: 58.39%\n",
            "Accuracy_score:  0.583941605839416\n",
            "\n",
            "Performance para:  KNeighborsClassifier(n_neighbors=10)\n",
            "Para el conjunto de entrenamiento: 71.15%\n",
            "Para el conjunto de prueba: 63.50%\n",
            "Accuracy_score:  0.635036496350365\n"
          ]
        }
      ]
    },
    {
      "cell_type": "markdown",
      "source": [
        "We select a range of values for *k* and create an empty list to store our results. We use cross-validation to find the accuracy scores, which means we don’t need to create a training and test split. We then loop over the values and add the scores to our list.\n",
        "\n",
        "To implement cross-validation, we use scikit-learn’s cross_val_score. We pass an instance of the kNN model, along with our data and a number of splits to make. In the code below, we use five splits which means the model with split the data into five equal-sized groups and use 4 to train and 1 to test the result. It will loop through each group and give an accuracy score, which we average to find the best model.\n",
        "\n"
      ],
      "metadata": {
        "id": "41W48BE7hyuo"
      }
    },
    {
      "cell_type": "code",
      "source": [
        "from sklearn.model_selection import cross_val_score\n",
        "k_values = [i for i in range (1, 15)]\n",
        "scores = []\n",
        "\n",
        "for k in k_values:\n",
        "    knn = KNeighborsClassifier(n_neighbors = k)\n",
        "    score = cross_val_score(knn, X, Y, cv=5)\n",
        "    scores.append(np.mean(score))"
      ],
      "metadata": {
        "id": "AbrB_Awbe78O"
      },
      "execution_count": 41,
      "outputs": []
    },
    {
      "cell_type": "code",
      "source": [
        "sns.lineplot(x = k_values, y = scores, marker = 'o')\n",
        "plt.xlabel(\"K Values\")\n",
        "plt.ylabel(\"Accuracy Score\")"
      ],
      "metadata": {
        "colab": {
          "base_uri": "https://localhost:8080/",
          "height": 297
        },
        "id": "XBe9ZAMVhWGn",
        "outputId": "cf81f85f-b7f6-4195-ad0e-145936e89d2c"
      },
      "execution_count": 42,
      "outputs": [
        {
          "output_type": "execute_result",
          "data": {
            "text/plain": [
              "Text(0, 0.5, 'Accuracy Score')"
            ]
          },
          "metadata": {},
          "execution_count": 42
        },
        {
          "output_type": "display_data",
          "data": {
            "text/plain": [
              "<Figure size 432x288 with 1 Axes>"
            ],
            "image/png": "[encoded data removed]"
          },
          "metadata": {
            "needs_background": "light"
          }
        }
      ]
    },
    {
      "cell_type": "markdown",
      "source": [
        "# Logistic Regression\n",
        "Logistic Regression outputs predictions about test data points on a binary scale, zero or one. If the value of something is 0.5 or above, it is classified as belonging to class 1, while below 0.5 if is classified as belonging to 0.\n",
        "\n",
        "Each of the features also has a label of only 0 or 1. Logistic regression is a linear classifier and therefore used when there is some sort of linear relationship between the data."
      ],
      "metadata": {
        "id": "zaa_ggzOSTSa"
      }
    },
    {
      "cell_type": "code",
      "source": [
        "from sklearn.linear_model import LogisticRegression"
      ],
      "metadata": {
        "id": "rBH2NhEySYk1"
      },
      "execution_count": 43,
      "outputs": []
    },
    {
      "cell_type": "code",
      "source": [
        "logisticRegr = LogisticRegression()\n",
        "test_classifier(logisticRegr, X_train, Y_train, X_test, Y_test)"
      ],
      "metadata": {
        "colab": {
          "base_uri": "https://localhost:8080/"
        },
        "id": "OPdfU0M8sflF",
        "outputId": "286d77dc-acc3-4726-f45c-49db6f1d1f21"
      },
      "execution_count": 44,
      "outputs": [
        {
          "output_type": "stream",
          "name": "stdout",
          "text": [
            "\n",
            "Performance para:  LogisticRegression()\n",
            "Para el conjunto de entrenamiento: 66.01%\n",
            "Para el conjunto de prueba: 64.96%\n",
            "Accuracy_score:  0.6496350364963503\n"
          ]
        }
      ]
    },
    {
      "cell_type": "markdown",
      "source": [
        "#Decision Trees\n",
        "A Decision Tree Classifier functions by breaking down a dataset into smaller and smaller subsets based on different criteria. Different sorting criteria will be used to divide the dataset, with the number of examples getting smaller with every division.\n",
        "\n",
        "Once the network has divided the data down to one example, the example will be put into a class that corresponds to a key. When multiple random forest classifiers are linked together they are called Random Forest Classifiers."
      ],
      "metadata": {
        "id": "PUxVSVsfTHFr"
      }
    },
    {
      "cell_type": "code",
      "source": [
        "from sklearn.tree import DecisionTreeClassifier\n"
      ],
      "metadata": {
        "id": "kKfPm0UETCLX"
      },
      "execution_count": 45,
      "outputs": []
    },
    {
      "cell_type": "code",
      "source": [
        "clf = DecisionTreeClassifier()\n",
        "test_classifier(clf, X_train, Y_train, X_test, Y_test)"
      ],
      "metadata": {
        "colab": {
          "base_uri": "https://localhost:8080/"
        },
        "id": "7BE18W8k0Qem",
        "outputId": "95c25dae-bf97-4c6f-95f2-e876fcdc6552"
      },
      "execution_count": 46,
      "outputs": [
        {
          "output_type": "stream",
          "name": "stdout",
          "text": [
            "\n",
            "Performance para:  DecisionTreeClassifier()\n",
            "Para el conjunto de entrenamiento: 100.00%\n",
            "Para el conjunto de prueba: 94.89%\n",
            "Accuracy_score:  0.948905109489051\n"
          ]
        }
      ]
    },
    {
      "cell_type": "markdown",
      "source": [
        "# Support Vector Machines\n",
        "Support Vector Machines work by drawing a line between the different clusters of data points to group them into classes. Points on one side of the line will be one class and points on the other side belong to another class.\n",
        "\n",
        "The classifier will try to maximize the distance between the line it draws and the points on either side of it, to increase its confidence in which points belong to which class. When the testing points are plotted, the side of the line they fall on is the class they are put in."
      ],
      "metadata": {
        "id": "BXeDhz2kUoJi"
      }
    },
    {
      "cell_type": "code",
      "source": [
        "from sklearn.svm import SVC"
      ],
      "metadata": {
        "id": "JJUggLXYUmop"
      },
      "execution_count": 47,
      "outputs": []
    },
    {
      "cell_type": "code",
      "source": [
        "SVC_model = SVC()\n",
        "SVC_model.fit(X_train, Y_train)"
      ],
      "metadata": {
        "colab": {
          "base_uri": "https://localhost:8080/",
          "height": 75
        },
        "id": "P4460AV1UnUA",
        "outputId": "87a3a8d9-67c3-401a-a3ce-5526186d1cce"
      },
      "execution_count": 48,
      "outputs": [
        {
          "output_type": "execute_result",
          "data": {
            "text/plain": [
              "SVC()"
            ],
            "text/html": [
              "<style>#sk-container-id-2 {color: black;background-color: white;}#sk-container-id-2 pre{padding: 0;}#sk-container-id-2 div.sk-toggleable {background-color: white;}#sk-container-id-2 label.sk-toggleable__label {cursor: pointer;display: block;width: 100%;margin-bottom: 0;padding: 0.3em;box-sizing: border-box;text-align: center;}#sk-container-id-2 label.sk-toggleable__label-arrow:before {content: \"▸\";float: left;margin-right: 0.25em;color: #696969;}#sk-container-id-2 label.sk-toggleable__label-arrow:hover:before {color: black;}#sk-container-id-2 div.sk-estimator:hover label.sk-toggleable__label-arrow:before {color: black;}#sk-container-id-2 div.sk-toggleable__content {max-height: 0;max-width: 0;overflow: hidden;text-align: left;background-color: #f0f8ff;}#sk-container-id-2 div.sk-toggleable__content pre {margin: 0.2em;color: black;border-radius: 0.25em;background-color: #f0f8ff;}#sk-container-id-2 input.sk-toggleable__control:checked~div.sk-toggleable__content {max-height: 200px;max-width: 100%;overflow: auto;}#sk-container-id-2 input.sk-toggleable__control:checked~label.sk-toggleable__label-arrow:before {content: \"▾\";}#sk-container-id-2 div.sk-estimator input.sk-toggleable__control:checked~label.sk-toggleable__label {background-color: #d4ebff;}#sk-container-id-2 div.sk-label input.sk-toggleable__control:checked~label.sk-toggleable__label {background-color: #d4ebff;}#sk-container-id-2 input.sk-hidden--visually {border: 0;clip: rect(1px 1px 1px 1px);clip: rect(1px, 1px, 1px, 1px);height: 1px;margin: -1px;overflow: hidden;padding: 0;position: absolute;width: 1px;}#sk-container-id-2 div.sk-estimator {font-family: monospace;background-color: #f0f8ff;border: 1px dotted black;border-radius: 0.25em;box-sizing: border-box;margin-bottom: 0.5em;}#sk-container-id-2 div.sk-estimator:hover {background-color: #d4ebff;}#sk-container-id-2 div.sk-parallel-item::after {content: \"\";width: 100%;border-bottom: 1px solid gray;flex-grow: 1;}#sk-container-id-2 div.sk-label:hover label.sk-toggleable__label {background-color: #d4ebff;}#sk-container-id-2 div.sk-serial::before {content: \"\";position: absolute;border-left: 1px solid gray;box-sizing: border-box;top: 0;bottom: 0;left: 50%;z-index: 0;}#sk-container-id-2 div.sk-serial {display: flex;flex-direction: column;align-items: center;background-color: white;padding-right: 0.2em;padding-left: 0.2em;position: relative;}#sk-container-id-2 div.sk-item {position: relative;z-index: 1;}#sk-container-id-2 div.sk-parallel {display: flex;align-items: stretch;justify-content: center;background-color: white;position: relative;}#sk-container-id-2 div.sk-item::before, #sk-container-id-2 div.sk-parallel-item::before {content: \"\";position: absolute;border-left: 1px solid gray;box-sizing: border-box;top: 0;bottom: 0;left: 50%;z-index: -1;}#sk-container-id-2 div.sk-parallel-item {display: flex;flex-direction: column;z-index: 1;position: relative;background-color: white;}#sk-container-id-2 div.sk-parallel-item:first-child::after {align-self: flex-end;width: 50%;}#sk-container-id-2 div.sk-parallel-item:last-child::after {align-self: flex-start;width: 50%;}#sk-container-id-2 div.sk-parallel-item:only-child::after {width: 0;}#sk-container-id-2 div.sk-dashed-wrapped {border: 1px dashed gray;margin: 0 0.4em 0.5em 0.4em;box-sizing: border-box;padding-bottom: 0.4em;background-color: white;}#sk-container-id-2 div.sk-label label {font-family: monospace;font-weight: bold;display: inline-block;line-height: 1.2em;}#sk-container-id-2 div.sk-label-container {text-align: center;}#sk-container-id-2 div.sk-container {/* jupyter's `normalize.less` sets `[hidden] { display: none; }` but bootstrap.min.css set `[hidden] { display: none !important; }` so we also need the `!important` here to be able to override the default hidden behavior on the sphinx rendered scikit-learn.org. See: https://github.com/scikit-learn/scikit-learn/issues/21755 */display: inline-block !important;position: relative;}#sk-container-id-2 div.sk-text-repr-fallback {display: none;}</style><div id=\"sk-container-id-2\" class=\"sk-top-container\"><div class=\"sk-text-repr-fallback\"><pre>SVC()</pre><b>In a Jupyter environment, please rerun this cell to show the HTML representation or trust the notebook. <br />On GitHub, the HTML representation is unable to render, please try loading this page with nbviewer.org.</b></div><div class=\"sk-container\" hidden><div class=\"sk-item\"><div class=\"sk-estimator sk-toggleable\"><input class=\"sk-toggleable__control sk-hidden--visually\" id=\"sk-estimator-id-2\" type=\"checkbox\" checked><label for=\"sk-estimator-id-2\" class=\"sk-toggleable__label sk-toggleable__label-arrow\">SVC</label><div class=\"sk-toggleable__content\"><pre>SVC()</pre></div></div></div></div></div>"
            ]
          },
          "metadata": {},
          "execution_count": 48
        }
      ]
    },
    {
      "cell_type": "code",
      "source": [
        "test_classifier(SVC_model, X_train, Y_train, X_test, Y_test)"
      ],
      "metadata": {
        "colab": {
          "base_uri": "https://localhost:8080/"
        },
        "id": "0D6h03oYma3M",
        "outputId": "5d060697-300b-49be-f4a2-1aad185afc52"
      },
      "execution_count": 49,
      "outputs": [
        {
          "output_type": "stream",
          "name": "stdout",
          "text": [
            "\n",
            "Performance para:  SVC()\n",
            "Para el conjunto de entrenamiento: 66.01%\n",
            "Para el conjunto de prueba: 64.96%\n",
            "Accuracy_score:  0.6496350364963503\n"
          ]
        }
      ]
    },
    {
      "cell_type": "markdown",
      "source": [
        "# Datos faltantes\n",
        "Instead of removing the records or columns you can always fill in the missing values and Python offers flexible tools to do it.\n",
        "\n"
      ],
      "metadata": {
        "id": "VaIxnrlax2tO"
      }
    },
    {
      "cell_type": "markdown",
      "source": [
        "## ffill strategy\n",
        "Let’s first use ffill strategy to fill all the NaNs with the preceding or last non-null value."
      ],
      "metadata": {
        "id": "5IgBF1ASGow4"
      }
    },
    {
      "cell_type": "code",
      "source": [
        "df_full[df_full['Bare Nuclei'] == '?']\n",
        "# replace ? with nan values \n",
        "df_full['Bare Nuclei'] = df_full['Bare Nuclei'].replace(['?'], [np.nan])\n",
        "df2 = df_full.fillna(method='ffill')\n",
        "df2 = df2.astype(int)"
      ],
      "metadata": {
        "id": "dn9Nrrc0x7PN"
      },
      "execution_count": 50,
      "outputs": []
    },
    {
      "cell_type": "code",
      "source": [
        "X_2 = df2.loc[:, df2.columns != 'Class']\n",
        "Y_2 = df2['Class']\n",
        "  \n",
        "# using the train test split function\n",
        "X_train_2, X_test_2, Y_train_2, Y_test_2 = train_test_split(X_2, Y_2, \n",
        "                          test_size = 0.2,\n",
        "                          random_state = 104,\n",
        "                          train_size = 0.6, shuffle = True)\n",
        "  "
      ],
      "metadata": {
        "id": "uxoU3lKa74JA"
      },
      "execution_count": 51,
      "outputs": []
    },
    {
      "cell_type": "code",
      "source": [
        "to_test =[MultinomialNB(), GaussianNB(), CategoricalNB(), BernoulliNB(),  DecisionTreeClassifier()]\n",
        "for i in range(len(to_test)):\n",
        "  classifier = to_test[i]\n",
        "  test_classifier(classifier, X_train_2, Y_train_2, X_test_2, Y_test_2)"
      ],
      "metadata": {
        "colab": {
          "base_uri": "https://localhost:8080/"
        },
        "id": "ADNJPiHN8AbZ",
        "outputId": "838b1783-3658-4d56-ab8c-1c75743bd206"
      },
      "execution_count": 52,
      "outputs": [
        {
          "output_type": "stream",
          "name": "stdout",
          "text": [
            "\n",
            "Performance para:  MultinomialNB()\n",
            "Para el conjunto de entrenamiento: 93.32%\n",
            "Para el conjunto de prueba: 95.00%\n",
            "Accuracy_score:  0.95\n",
            "\n",
            "Performance para:  GaussianNB()\n",
            "Para el conjunto de entrenamiento: 86.87%\n",
            "Para el conjunto de prueba: 92.14%\n",
            "Accuracy_score:  0.9214285714285714\n",
            "\n",
            "Performance para:  CategoricalNB()\n",
            "Para el conjunto de entrenamiento: 97.61%\n",
            "Para el conjunto de prueba: 96.43%\n",
            "Accuracy_score:  0.9642857142857143\n",
            "\n",
            "Performance para:  BernoulliNB()\n",
            "Para el conjunto de entrenamiento: 65.39%\n",
            "Para el conjunto de prueba: 67.14%\n",
            "Accuracy_score:  0.6714285714285714\n",
            "\n",
            "Performance para:  DecisionTreeClassifier()\n",
            "Para el conjunto de entrenamiento: 100.00%\n",
            "Para el conjunto de prueba: 92.86%\n",
            "Accuracy_score:  0.9285714285714286\n"
          ]
        }
      ]
    },
    {
      "cell_type": "markdown",
      "source": [
        "## Mean strategy\n",
        "Now, we will to replace de nan values with the mean of the column"
      ],
      "metadata": {
        "id": "dxcF_ZNTGamz"
      }
    },
    {
      "cell_type": "code",
      "source": [
        "# replace nan values with mean\n",
        "values = df['Bare Nuclei'].mean()\n",
        "df3 = df_full.fillna(value = values)\n",
        "df3 = df3.astype(int)"
      ],
      "metadata": {
        "id": "416BHPai57sk"
      },
      "execution_count": 53,
      "outputs": []
    },
    {
      "cell_type": "code",
      "source": [
        "X_3 = df3.loc[:, df3.columns != 'Class']\n",
        "Y_3 = df3['Class']\n",
        "  \n",
        "# using the train test split function\n",
        "X_train_3, X_test_3, Y_train_3, Y_test_3 = train_test_split(X_3, Y_3, \n",
        "                          test_size = 0.2,\n",
        "                          random_state = 104,\n",
        "                          train_size = 0.6, shuffle = True)\n",
        "\n",
        "to_test =[CategoricalNB(), MultinomialNB(), GaussianNB(), BernoulliNB(),  DecisionTreeClassifier()]\n",
        "for i in range(len(to_test)):\n",
        "  classifier = to_test[i]\n",
        "  test_classifier(classifier, X_train_3, Y_train_3, X_test_3, Y_test_3)  "
      ],
      "metadata": {
        "colab": {
          "base_uri": "https://localhost:8080/"
        },
        "id": "tkobelKg-Ms2",
        "outputId": "f23ad9fc-fbd7-4879-c7f6-c1932bade6e4"
      },
      "execution_count": 54,
      "outputs": [
        {
          "output_type": "stream",
          "name": "stdout",
          "text": [
            "\n",
            "Performance para:  CategoricalNB()\n",
            "Para el conjunto de entrenamiento: 97.61%\n",
            "Para el conjunto de prueba: 96.43%\n",
            "Accuracy_score:  0.9642857142857143\n",
            "\n",
            "Performance para:  MultinomialNB()\n",
            "Para el conjunto de entrenamiento: 93.79%\n",
            "Para el conjunto de prueba: 95.00%\n",
            "Accuracy_score:  0.95\n",
            "\n",
            "Performance para:  GaussianNB()\n",
            "Para el conjunto de entrenamiento: 86.87%\n",
            "Para el conjunto de prueba: 92.14%\n",
            "Accuracy_score:  0.9214285714285714\n",
            "\n",
            "Performance para:  BernoulliNB()\n",
            "Para el conjunto de entrenamiento: 65.39%\n",
            "Para el conjunto de prueba: 67.14%\n",
            "Accuracy_score:  0.6714285714285714\n",
            "\n",
            "Performance para:  DecisionTreeClassifier()\n",
            "Para el conjunto de entrenamiento: 100.00%\n",
            "Para el conjunto de prueba: 91.43%\n",
            "Accuracy_score:  0.9142857142857143\n"
          ]
        }
      ]
    },
    {
      "cell_type": "markdown",
      "source": [
        "## Mode strategy\n",
        "Now, we will to replace de nan values with the mean of the column"
      ],
      "metadata": {
        "id": "mL5u44MPG68q"
      }
    },
    {
      "cell_type": "code",
      "source": [
        "# replace nan values with mean\n",
        "values = int(df['Bare Nuclei'].mode())\n",
        "df4 = df_full.fillna(value = values)\n",
        "df4 = df4.astype(int)\n",
        "\n",
        "X_4 = df4.loc[:, df4.columns != 'Class']\n",
        "Y_4 = df4['Class']\n",
        "  \n",
        "# using the train test split function\n",
        "X_train_4, X_test_4, Y_train_4, Y_test_4 = train_test_split(X_4, Y_4, \n",
        "                          test_size = 0.2,\n",
        "                          random_state = 104,\n",
        "                          train_size = 0.6, shuffle = True)\n",
        "\n",
        "to_test =[CategoricalNB(), MultinomialNB(), GaussianNB(), BernoulliNB(),  DecisionTreeClassifier()]\n",
        "for i in range(len(to_test)):\n",
        "  classifier = to_test[i]\n",
        "  test_classifier(classifier, X_train_4, Y_train_4, X_test_4, Y_test_4)  "
      ],
      "metadata": {
        "colab": {
          "base_uri": "https://localhost:8080/"
        },
        "id": "IyOSl3IJE_zV",
        "outputId": "d4e4ec74-2c90-4b93-855a-4947f3b791b3"
      },
      "execution_count": 55,
      "outputs": [
        {
          "output_type": "stream",
          "name": "stdout",
          "text": [
            "\n",
            "Performance para:  CategoricalNB()\n",
            "Para el conjunto de entrenamiento: 97.61%\n",
            "Para el conjunto de prueba: 96.43%\n",
            "Accuracy_score:  0.9642857142857143\n",
            "\n",
            "Performance para:  MultinomialNB()\n",
            "Para el conjunto de entrenamiento: 93.32%\n",
            "Para el conjunto de prueba: 95.00%\n",
            "Accuracy_score:  0.95\n",
            "\n",
            "Performance para:  GaussianNB()\n",
            "Para el conjunto de entrenamiento: 86.87%\n",
            "Para el conjunto de prueba: 92.14%\n",
            "Accuracy_score:  0.9214285714285714\n",
            "\n",
            "Performance para:  BernoulliNB()\n",
            "Para el conjunto de entrenamiento: 65.39%\n",
            "Para el conjunto de prueba: 67.14%\n",
            "Accuracy_score:  0.6714285714285714\n",
            "\n",
            "Performance para:  DecisionTreeClassifier()\n",
            "Para el conjunto de entrenamiento: 100.00%\n",
            "Para el conjunto de prueba: 94.29%\n",
            "Accuracy_score:  0.9428571428571428\n"
          ]
        }
      ]
    },
    {
      "cell_type": "markdown",
      "source": [
        "# Resultados\n",
        "### Mejor clasificador\n",
        "Entrenamos usando diferentes clasificadores: Clasificador bayersiano ingenuo para diferentes distribuciones, k-vecinos, regresión logistica, árboles de descición y maquina de soporte vectorial. Todo esto después de haber eliminado los renglones que contenían un atributo incierto (?). Se obtuvieron mejores resultados para \n",
        "\n",
        "Performance para:  MultinomialNB()\\\n",
        "Accuracy_score:  0.9124087591240876\n",
        "\\\n",
        "\\\n",
        "Performance para:  CategoricalNB()\\\n",
        "Accuracy_score:  0.9708029197080292\n",
        "\\\n",
        "\\\n",
        "Performance para:  DecisionTreeClassifier()\\\n",
        "Accuracy_score:  0.9562043795620438\n",
        "\n",
        "\n",
        "- Mejor estrategia to fill ? \n",
        "Posteriormente se utilizaron estrategias para rellenar los valores con valores inciertos ?. Se evaluaron nuevamente y se reporta lo siguiente:\n",
        "\n",
        "fill\n",
        "Performance para:  CategoricalNB()\\\n",
        "Accuracy_score:  0.9642857142857143\n",
        "\\\n",
        "\\\n",
        "Moda\n",
        "Performance para:  CategoricalNB()\\\n",
        "Accuracy_score:  0.9642857142857143\n",
        "\\\n",
        "\\\n",
        "Mean\n",
        "Performance para:  CategoricalNB()\n",
        "Accuracy_score:  0.9642857142857143\n",
        "\\\n",
        "\\\n",
        "De manera que el mejor desempeño es para el clasificador bayesiano ingenuo con distribución categorica. Por otro lado, las estrategias para reemplazar los datos faltantes no mejora significativamente el desempeño del clasificador, eso debe ser porque únicamente son 16 datos los que presentan el simbolo ?. En un data ser donde este tipo de datos se presente en mayor cantidad, usar estas estrategias de llenado podrían mejorar el desempeño de los modelos. "
      ],
      "metadata": {
        "id": "Nn51X2Lx1EfE"
      }
    },
    {
      "cell_type": "markdown",
      "source": [
        "# Reporta el porcentaje de predicciones correctas en el subconjunto de prueba para el clasificador con mejor rendimiento en el subconjunto de validación."
      ],
      "metadata": {
        "id": "8sDlJwjnBEVH"
      }
    },
    {
      "cell_type": "code",
      "source": [
        "test_classifier(CategoricalNB(), X_train, Y_train, X_validation, Y_validation)"
      ],
      "metadata": {
        "colab": {
          "base_uri": "https://localhost:8080/"
        },
        "id": "nDDgmnGI1FtB",
        "outputId": "92f0e00e-7ad6-46ee-d479-901315c58043"
      },
      "execution_count": 56,
      "outputs": [
        {
          "output_type": "stream",
          "name": "stdout",
          "text": [
            "\n",
            "Performance para:  CategoricalNB()\n",
            "Para el conjunto de entrenamiento: 97.31%\n",
            "Para el conjunto de prueba: 97.81%\n",
            "Accuracy_score:  0.9781021897810219\n"
          ]
        }
      ]
    },
    {
      "cell_type": "markdown",
      "source": [
        "El mejor clasificador fue el clasificador bayesiano ingenuo con distribución categorica con un Accuracy_score: 97.31% en el conjunto de validación."
      ],
      "metadata": {
        "id": "TsDcU7AxF0j1"
      }
    },
    {
      "cell_type": "code",
      "source": [],
      "metadata": {
        "id": "GhwJJEViDr9Q"
      },
      "execution_count": 56,
      "outputs": []
    }
  ]
}