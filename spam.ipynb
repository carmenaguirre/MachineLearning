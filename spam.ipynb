{
  "cells": [
    {
      "cell_type": "markdown",
      "metadata": {
        "id": "MM-p2RRQYifw"
      },
      "source": [
        "# Clasificador bayesiano ingenuo de Bernoulli\n",
        "En esta libreta programaremos un clasificador bayesiano ingenuo en el cual se presupone que la distribución de los atributos dada la clase es una Bernoulli y hay dos posibles clases. \n",
        "\n",
        "## Tarea 1 Aprendizaje automatizado\n",
        "## María Carmen Aguirre Delgado"
      ]
    },
    {
      "cell_type": "code",
      "execution_count": 1,
      "metadata": {
        "id": "rbChPGaZYigB"
      },
      "outputs": [],
      "source": [
        "import pandas as pd\n",
        "import random\n",
        "import math\n",
        "import numpy as np \n",
        "from sklearn.model_selection import train_test_split"
      ]
    },
    {
      "cell_type": "markdown",
      "metadata": {
        "id": "fmMtoOBQYigG"
      },
      "source": [
        "## Carga y lectura de datos \n",
        "#### El archivo spam.csv contiene 2001 valores por cada renglón, de los cuales los primeros 2000 representan el histograma de palabras de un correo y el último corresponde a la clase, esto es, 1 si es spam y 0 si no lo es."
      ]
    },
    {
      "cell_type": "code",
      "execution_count": 2,
      "metadata": {
        "colab": {
          "base_uri": "https://localhost:8080/",
          "height": 235
        },
        "id": "nP1ioEw_YigJ",
        "outputId": "263ba418-1daa-408b-a1eb-2a678503d21c"
      },
      "outputs": [
        {
          "output_type": "execute_result",
          "data": {
            "text/plain": [
              "   0     1     2     3     4     5     6     7     8     9     ...  1991  \\\n",
              "0     0     0     0     0     0     0     0     0     0     0  ...     0   \n",
              "1     1     0     0     0     0     0     0     0     0     0  ...     0   \n",
              "2     1     0     0     0     0     0     0     0     0     0  ...     0   \n",
              "3     0     0     0     0     0     0     0     0     0     0  ...     0   \n",
              "4     1     0     0     0     0     0     0     0     0     0  ...     0   \n",
              "\n",
              "   1992  1993  1994  1995  1996  1997  1998  1999  2000  \n",
              "0     0     0     0     0     0     0     0     0     1  \n",
              "1     0     0     0     0     0     0     0     1     1  \n",
              "2     0     0     0     0     0     0     0     0     1  \n",
              "3     1     0     0     0     0     0     0     0     1  \n",
              "4     0     0     0     0     0     0     0     0     1  \n",
              "\n",
              "[5 rows x 2001 columns]"
            ],
            "text/html": [
              "\n",
              "  <div id=\"df-f0334f2c-6a1c-4710-86cf-2f336963892a\">\n",
              "    <div class=\"colab-df-container\">\n",
              "      <div>\n",
              "<style scoped>\n",
              "    .dataframe tbody tr th:only-of-type {\n",
              "        vertical-align: middle;\n",
              "    }\n",
              "\n",
              "    .dataframe tbody tr th {\n",
              "        vertical-align: top;\n",
              "    }\n",
              "\n",
              "    .dataframe thead th {\n",
              "        text-align: right;\n",
              "    }\n",
              "</style>\n",
              "<table border=\"1\" class=\"dataframe\">\n",
              "  <thead>\n",
              "    <tr style=\"text-align: right;\">\n",
              "      <th></th>\n",
              "      <th>0</th>\n",
              "      <th>1</th>\n",
              "      <th>2</th>\n",
              "      <th>3</th>\n",
              "      <th>4</th>\n",
              "      <th>5</th>\n",
              "      <th>6</th>\n",
              "      <th>7</th>\n",
              "      <th>8</th>\n",
              "      <th>9</th>\n",
              "      <th>...</th>\n",
              "      <th>1991</th>\n",
              "      <th>1992</th>\n",
              "      <th>1993</th>\n",
              "      <th>1994</th>\n",
              "      <th>1995</th>\n",
              "      <th>1996</th>\n",
              "      <th>1997</th>\n",
              "      <th>1998</th>\n",
              "      <th>1999</th>\n",
              "      <th>2000</th>\n",
              "    </tr>\n",
              "  </thead>\n",
              "  <tbody>\n",
              "    <tr>\n",
              "      <th>0</th>\n",
              "      <td>0</td>\n",
              "      <td>0</td>\n",
              "      <td>0</td>\n",
              "      <td>0</td>\n",
              "      <td>0</td>\n",
              "      <td>0</td>\n",
              "      <td>0</td>\n",
              "      <td>0</td>\n",
              "      <td>0</td>\n",
              "      <td>0</td>\n",
              "      <td>...</td>\n",
              "      <td>0</td>\n",
              "      <td>0</td>\n",
              "      <td>0</td>\n",
              "      <td>0</td>\n",
              "      <td>0</td>\n",
              "      <td>0</td>\n",
              "      <td>0</td>\n",
              "      <td>0</td>\n",
              "      <td>0</td>\n",
              "      <td>1</td>\n",
              "    </tr>\n",
              "    <tr>\n",
              "      <th>1</th>\n",
              "      <td>1</td>\n",
              "      <td>0</td>\n",
              "      <td>0</td>\n",
              "      <td>0</td>\n",
              "      <td>0</td>\n",
              "      <td>0</td>\n",
              "      <td>0</td>\n",
              "      <td>0</td>\n",
              "      <td>0</td>\n",
              "      <td>0</td>\n",
              "      <td>...</td>\n",
              "      <td>0</td>\n",
              "      <td>0</td>\n",
              "      <td>0</td>\n",
              "      <td>0</td>\n",
              "      <td>0</td>\n",
              "      <td>0</td>\n",
              "      <td>0</td>\n",
              "      <td>0</td>\n",
              "      <td>1</td>\n",
              "      <td>1</td>\n",
              "    </tr>\n",
              "    <tr>\n",
              "      <th>2</th>\n",
              "      <td>1</td>\n",
              "      <td>0</td>\n",
              "      <td>0</td>\n",
              "      <td>0</td>\n",
              "      <td>0</td>\n",
              "      <td>0</td>\n",
              "      <td>0</td>\n",
              "      <td>0</td>\n",
              "      <td>0</td>\n",
              "      <td>0</td>\n",
              "      <td>...</td>\n",
              "      <td>0</td>\n",
              "      <td>0</td>\n",
              "      <td>0</td>\n",
              "      <td>0</td>\n",
              "      <td>0</td>\n",
              "      <td>0</td>\n",
              "      <td>0</td>\n",
              "      <td>0</td>\n",
              "      <td>0</td>\n",
              "      <td>1</td>\n",
              "    </tr>\n",
              "    <tr>\n",
              "      <th>3</th>\n",
              "      <td>0</td>\n",
              "      <td>0</td>\n",
              "      <td>0</td>\n",
              "      <td>0</td>\n",
              "      <td>0</td>\n",
              "      <td>0</td>\n",
              "      <td>0</td>\n",
              "      <td>0</td>\n",
              "      <td>0</td>\n",
              "      <td>0</td>\n",
              "      <td>...</td>\n",
              "      <td>0</td>\n",
              "      <td>1</td>\n",
              "      <td>0</td>\n",
              "      <td>0</td>\n",
              "      <td>0</td>\n",
              "      <td>0</td>\n",
              "      <td>0</td>\n",
              "      <td>0</td>\n",
              "      <td>0</td>\n",
              "      <td>1</td>\n",
              "    </tr>\n",
              "    <tr>\n",
              "      <th>4</th>\n",
              "      <td>1</td>\n",
              "      <td>0</td>\n",
              "      <td>0</td>\n",
              "      <td>0</td>\n",
              "      <td>0</td>\n",
              "      <td>0</td>\n",
              "      <td>0</td>\n",
              "      <td>0</td>\n",
              "      <td>0</td>\n",
              "      <td>0</td>\n",
              "      <td>...</td>\n",
              "      <td>0</td>\n",
              "      <td>0</td>\n",
              "      <td>0</td>\n",
              "      <td>0</td>\n",
              "      <td>0</td>\n",
              "      <td>0</td>\n",
              "      <td>0</td>\n",
              "      <td>0</td>\n",
              "      <td>0</td>\n",
              "      <td>1</td>\n",
              "    </tr>\n",
              "  </tbody>\n",
              "</table>\n",
              "<p>5 rows × 2001 columns</p>\n",
              "</div>\n",
              "      <button class=\"colab-df-convert\" onclick=\"convertToInteractive('df-f0334f2c-6a1c-4710-86cf-2f336963892a')\"\n",
              "              title=\"Convert this dataframe to an interactive table.\"\n",
              "              style=\"display:none;\">\n",
              "        \n",
              "  <svg xmlns=\"http://www.w3.org/2000/svg\" height=\"24px\"viewBox=\"0 0 24 24\"\n",
              "       width=\"24px\">\n",
              "    <path d=\"M0 0h24v24H0V0z\" fill=\"none\"/>\n",
              "    <path d=\"M18.56 5.44l.94 2.06.94-2.06 2.06-.94-2.06-.94-.94-2.06-.94 2.06-2.06.94zm-11 1L8.5 8.5l.94-2.06 2.06-.94-2.06-.94L8.5 2.5l-.94 2.06-2.06.94zm10 10l.94 2.06.94-2.06 2.06-.94-2.06-.94-.94-2.06-.94 2.06-2.06.94z\"/><path d=\"M17.41 7.96l-1.37-1.37c-.4-.4-.92-.59-1.43-.59-.52 0-1.04.2-1.43.59L10.3 9.45l-7.72 7.72c-.78.78-.78 2.05 0 2.83L4 21.41c.39.39.9.59 1.41.59.51 0 1.02-.2 1.41-.59l7.78-7.78 2.81-2.81c.8-.78.8-2.07 0-2.86zM5.41 20L4 18.59l7.72-7.72 1.47 1.35L5.41 20z\"/>\n",
              "  </svg>\n",
              "      </button>\n",
              "      \n",
              "  <style>\n",
              "    .colab-df-container {\n",
              "      display:flex;\n",
              "      flex-wrap:wrap;\n",
              "      gap: 12px;\n",
              "    }\n",
              "\n",
              "    .colab-df-convert {\n",
              "      background-color: #E8F0FE;\n",
              "      border: none;\n",
              "      border-radius: 50%;\n",
              "      cursor: pointer;\n",
              "      display: none;\n",
              "      fill: #1967D2;\n",
              "      height: 32px;\n",
              "      padding: 0 0 0 0;\n",
              "      width: 32px;\n",
              "    }\n",
              "\n",
              "    .colab-df-convert:hover {\n",
              "      background-color: #E2EBFA;\n",
              "      box-shadow: 0px 1px 2px rgba(60, 64, 67, 0.3), 0px 1px 3px 1px rgba(60, 64, 67, 0.15);\n",
              "      fill: #174EA6;\n",
              "    }\n",
              "\n",
              "    [theme=dark] .colab-df-convert {\n",
              "      background-color: #3B4455;\n",
              "      fill: #D2E3FC;\n",
              "    }\n",
              "\n",
              "    [theme=dark] .colab-df-convert:hover {\n",
              "      background-color: #434B5C;\n",
              "      box-shadow: 0px 1px 3px 1px rgba(0, 0, 0, 0.15);\n",
              "      filter: drop-shadow(0px 1px 2px rgba(0, 0, 0, 0.3));\n",
              "      fill: #FFFFFF;\n",
              "    }\n",
              "  </style>\n",
              "\n",
              "      <script>\n",
              "        const buttonEl =\n",
              "          document.querySelector('#df-f0334f2c-6a1c-4710-86cf-2f336963892a button.colab-df-convert');\n",
              "        buttonEl.style.display =\n",
              "          google.colab.kernel.accessAllowed ? 'block' : 'none';\n",
              "\n",
              "        async function convertToInteractive(key) {\n",
              "          const element = document.querySelector('#df-f0334f2c-6a1c-4710-86cf-2f336963892a');\n",
              "          const dataTable =\n",
              "            await google.colab.kernel.invokeFunction('convertToInteractive',\n",
              "                                                     [key], {});\n",
              "          if (!dataTable) return;\n",
              "\n",
              "          const docLinkHtml = 'Like what you see? Visit the ' +\n",
              "            '<a target=\"_blank\" href=https://colab.research.google.com/notebooks/data_table.ipynb>data table notebook</a>'\n",
              "            + ' to learn more about interactive tables.';\n",
              "          element.innerHTML = '';\n",
              "          dataTable['output_type'] = 'display_data';\n",
              "          await google.colab.output.renderOutput(dataTable, element);\n",
              "          const docLink = document.createElement('div');\n",
              "          docLink.innerHTML = docLinkHtml;\n",
              "          element.appendChild(docLink);\n",
              "        }\n",
              "      </script>\n",
              "    </div>\n",
              "  </div>\n",
              "  "
            ]
          },
          "metadata": {},
          "execution_count": 2
        }
      ],
      "source": [
        "url = 'http://turing.iimas.unam.mx/~gibranfp/cursos/aprendizaje_automatizado/data/spam.csv'\n",
        "df = pd.read_csv(url, sep=' ', header=None)\n",
        "df.head()"
      ]
    },
    {
      "cell_type": "markdown",
      "metadata": {
        "id": "2h1L8lVxYigM"
      },
      "source": [
        "### 1. Reporta el porcentaje de correos que están etiquetados como spam y como no spam en el conjunto de datos"
      ]
    },
    {
      "cell_type": "code",
      "execution_count": 3,
      "metadata": {
        "colab": {
          "base_uri": "https://localhost:8080/"
        },
        "id": "3e-fyx5oYigO",
        "outputId": "6c11fc5a-4241-4b1f-e50a-965308a4196d"
      },
      "outputs": [
        {
          "output_type": "stream",
          "name": "stdout",
          "text": [
            "La cantidad de correos marcados como spam es 1500\n",
            "Lo cual representa un porcentaje del 29.00232018561485 %\n",
            "La cantidad de correos no marcados como spam es 3672\n",
            "Lo cual representa un porcentaje del 70.99767981438515 %\n"
          ]
        }
      ],
      "source": [
        "#rename the last column \n",
        "df.rename(columns = {2000 : 'SPAM'}, inplace=True) \n",
        "\n",
        "spam = len(df[df['SPAM'] == 1])\n",
        "no_spam = len(df[df['SPAM'] == 0])\n",
        "\n",
        "print(f'La cantidad de correos marcados como spam es {spam}')\n",
        "print(f'Lo cual representa un porcentaje del {spam*100/(spam + no_spam)} %')\n",
        "print(f'La cantidad de correos no marcados como spam es {no_spam}')\n",
        "print(f'Lo cual representa un porcentaje del {no_spam*100/(spam + no_spam)} %')"
      ]
    },
    {
      "cell_type": "markdown",
      "metadata": {
        "id": "IZWR1_8MYigS"
      },
      "source": [
        "### 2. Divide aleatoriamente el conjunto de datos en el 60 % para entrenamiento, el 20 % para validación y el 20 % restante para prueba usando 22 como semilla para tu generador de números aleatorios"
      ]
    },
    {
      "cell_type": "code",
      "execution_count": 4,
      "metadata": {
        "id": "eIeuAqwOYiga"
      },
      "outputs": [],
      "source": [
        "X = df.loc[:, df.columns != 'SPAM']\n",
        "y =df['SPAM']\n",
        "\n",
        "  \n",
        "# using the train test split function\n",
        "X_train, X_test, y_train, y_test = train_test_split(X,y , \n",
        "                          test_size = 0.2,\n",
        "                          random_state = 22,\n",
        "                          train_size = 0.6, shuffle = True)\n",
        "  "
      ]
    },
    {
      "cell_type": "code",
      "source": [
        "# get the validation set\n",
        "tmp = df[ ~df.index.isin(y_train.index) ]\n",
        "tmp2 = tmp[ ~tmp.index.isin(y_test.index) ]\n",
        "\n",
        "X_validation = tmp2.loc[:, tmp2.columns != 'SPAM']\n",
        "Y_validation = tmp2['SPAM']"
      ],
      "metadata": {
        "id": "nt3z43OptIih"
      },
      "execution_count": 5,
      "outputs": []
    },
    {
      "cell_type": "code",
      "execution_count": 6,
      "metadata": {
        "colab": {
          "base_uri": "https://localhost:8080/"
        },
        "id": "14ZRX3-lYige",
        "outputId": "2aca1db9-3361-468b-c0c8-84dbe0d6ed07"
      },
      "outputs": [
        {
          "output_type": "stream",
          "name": "stdout",
          "text": [
            "El conjunto de entrenamiento tiene 3103 observaciones.\n",
            "El conjunto de validación tiene 1035 observaciones.\n",
            "El conjunto de prueba tiene 1034 observaciones.\n"
          ]
        }
      ],
      "source": [
        "print(f'El conjunto de entrenamiento tiene {len(X_train)} observaciones.')\n",
        "print(f'El conjunto de validación tiene {len(X_test)} observaciones.')\n",
        "print(f'El conjunto de prueba tiene {len(X_validation)} observaciones.')"
      ]
    },
    {
      "cell_type": "markdown",
      "metadata": {
        "id": "rkvwSe7MYigl"
      },
      "source": [
        "## Entrena 2 clasificadores bayesianos ingenuos con distintas distribuciones."
      ]
    },
    {
      "cell_type": "markdown",
      "metadata": {
        "id": "DIpu-uf1Yign"
      },
      "source": [
        "### Clasificador bayesiano ingenuo para distribución de Bernoulli\n",
        "#### Definimos una función para obtener la probabilidad de 0 o 1 dada una distribución de Bernoulli con parámetro $q$. Definimos una clase con el clasificador bayesiano ingenuo para atributos binarios y estimación de parámetros por máxima verosimilitud.\n"
      ]
    },
    {
      "cell_type": "code",
      "source": [
        "class NaiveBayesClassifier:\n",
        "    \n",
        "    def __init__(self, estimator = 'maxLikelihood', alpha = 2):\n",
        "        estimators = ['maxLikelihood', 'maxAPosteriori']\n",
        "        self.alpha = alpha\n",
        "        # Validamos que el estimador seleccionado sea correcto\n",
        "        if estimator not in estimators:\n",
        "            print('Estimators not found. Try maxLikelihood or maxAPosteriori.')\n",
        "        else:\n",
        "            self.estimator = estimator\n",
        "\n",
        "    # Estimación de parámetros por máxima verosimilitud\n",
        "    def maxLikelihoodEstimation(self):\n",
        "        pass\n",
        "\n",
        "    # Estimación de parámetros por máxima a posteriori\n",
        "    def maxAPosterioriEstimation(self):\n",
        "        pass\n",
        "\n",
        "    # Ecuación de verosimilitud para una distribución de Bernoulli\n",
        "    def distributionFunction(self, X):\n",
        "        pass\n",
        "\n",
        "    # Entrenamos el modelo\n",
        "    def fit(self, X, Y):\n",
        "        self.X_train = X\n",
        "        self.Y_train = Y\n",
        "        self.n = X_train.shape[0] # Cantidad de observaciones\n",
        "        self.n_atrib = X_train.shape[1] # Cantidad de parámetros\n",
        "        self.classes = np.unique(self.Y_train) \n",
        "        self.n_classes = self.classes.size # Cantidad de clases\n",
        "        # Estimamos los parámetros para las clases y los atributos\n",
        "        self.qc = np.zeros(self.classes.size) \n",
        "        self.qa = np.zeros((self.n_classes, self.n_atrib))\n",
        "        if self.estimator == 'maxLikelihood':\n",
        "            self.maxLikelihoodEstimation()\n",
        "        else:\n",
        "            self.maxAPosterioriEstimation()\n",
        "        self.applyLn()\n",
        "\n",
        "    # Aplixamos el logaritmo a los parámetros para evitar desborde de datos\n",
        "    def applyLn(self):\n",
        "        self.qc[self.qc == 0] = np.nextafter(0, 1)\n",
        "        self.qc[self.qc == 1] = np.nextafter(1, 0)\n",
        "        self.qc = np.log(self.qc)\n",
        "        self.qa[self.qa == 0] = np.nextafter(0, 1)\n",
        "        self.qa[self.qa == 1] = np.nextafter(1, 0)\n",
        "        self.qa = np.log(self.qa)\n",
        "\n",
        "    # Clasificamos nuevas observaciones de acuerdo al modelo entrenado\n",
        "    def predict(self, X):\n",
        "        X_test = X\n",
        "        Y_test = np.zeros(X_test.shape[0])\n",
        "        # Obtenemos las verosimilitudes del conjunto de datos de prueba\n",
        "        Likelihood = self.qc + self.distributionFunction(X_test)\n",
        "        # Clasificando de acuerdo al valor máximo de verosimilitud\n",
        "        for i, L in enumerate(Likelihood):\n",
        "            Y_test[i] = self.classes[np.argmax(L)]\n",
        "        return Y_test\n",
        "\n"
      ],
      "metadata": {
        "id": "ZzlIyOerZh1v"
      },
      "execution_count": 7,
      "outputs": []
    },
    {
      "cell_type": "code",
      "source": [
        "class NBCbernoulli(NaiveBayesClassifier):\n",
        "    # Estimación de parámetros por máxima verosimilitud\n",
        "    def maxLikelihoodEstimation(self):\n",
        "        for i, c in enumerate(self.classes):\n",
        "            Xc = self.X_train[np.where(self.Y_train == c)]\n",
        "            nc = Xc.shape[0]\n",
        "            self.qc[i] = nc / self.n\n",
        "            self.qa[i] =  Xc.sum(axis = 0) / nc\n",
        "\n",
        "    # Estimación de parámetros por máxima a posteriori\n",
        "    def maxAPosterioriEstimation(self):\n",
        "        for i, c in enumerate(self.classes):\n",
        "            Xc = self.X_train[np.where(self.Y_train == c)]\n",
        "            nc = Xc.shape[0]\n",
        "            self.qc[i] = (nc + self.alpha - 1) / (self.n + self.n_atrib + self.alpha - 2)\n",
        "            self.qa[i] =  (Xc.sum(axis = 0) + self.alpha - 1) / (nc + self.n_atrib + self.alpha - 2)\n",
        "\n",
        "    # Ecuación de verosimilitud para una distribución de Bernoulli\n",
        "    def bernoulli(self, x, q):\n",
        "        \"\"\"\n",
        "        Distribución de bernoulli\n",
        "        \"\"\"\n",
        "        return ((1 - x) @ (1 - q)) + (x @ (q))\n",
        "\n",
        "    def distributionFunction(self, X):\n",
        "        L = np.zeros((X.shape[0], self.classes.size))\n",
        "        for i in range(self.n_classes):\n",
        "            L[:, i] = self.qc[i] + self.bernoulli(X, self.qa[i, :])\n",
        "        return L"
      ],
      "metadata": {
        "id": "iM4d679UndLG"
      },
      "execution_count": 8,
      "outputs": []
    },
    {
      "cell_type": "code",
      "source": [
        "class NBCcategorical(NaiveBayesClassifier):\n",
        "    # Estimación de parámetros por máxima verosimilitud\n",
        "    def maxLikelihoodEstimation(self):\n",
        "        self.n_cat = int(np.max(self.X_train)) + 1\n",
        "        self.qa = np.zeros((self.n_classes, self.n_atrib, self.n_cat))\n",
        "        for i, c in enumerate(self.classes):\n",
        "            Xc = self.X_train[np.where(self.Y_train == c)]\n",
        "            nc = Xc.shape[0]\n",
        "            self.qc[i] = nc / self.n_atrib\n",
        "            for j in range(self.n_atrib):\n",
        "                Xci = self.X_train[np.where(self.Y_train == c), j]\n",
        "                for k in range(self.n_cat): \n",
        "                    self.qa[i, j, k] = np.sum(Xci == k)  / Xci.shape[0]\n",
        "\n",
        "    # Estimación de parámetros por máxima a posteriori\n",
        "    def maxAPosterioriEstimation(self):\n",
        "        self.n_cat = int(np.max(self.X_train)) + 1\n",
        "        self.qa = np.zeros((self.n_classes, self.n_atrib, self.n_cat))\n",
        "        for i, c in enumerate(self.classes):\n",
        "            Xc = self.X_train[np.where(self.Y_train == c)]\n",
        "            nc = Xc.shape[0]\n",
        "            self.qc[i] = (np.sum(self.Y_train == c) + self.alpha - 1) / (self.n + self.alpha * self.n_classes - self.n_classes)\n",
        "            for j in range(self.n_atrib):\n",
        "                Xci = self.X_train[np.where(self.Y_train == c), j]\n",
        "                for k in range(self.n_cat): \n",
        "                    self.qa[i, j, k] = (np.sum(Xci == k) + self.alpha - 1) / (Xci.shape[0] + self.alpha * self.n_cat - self.n_cat)\n",
        "\n",
        "    def categorical(self, c, q):\n",
        "      \"\"\"\n",
        "      Distribución categorica\n",
        "      \"\"\"\n",
        "      return q[int(c)]\n",
        "    \n",
        "    # Ecuación de verosimilitud para una distribución de Categórica\n",
        "    def distributionFunction(self, X):\n",
        "        L = np.zeros((X.shape[0], self.classes.size))\n",
        "        for k in range(X.shape[0]):\n",
        "            for i in range(self.classes.size):\n",
        "                for j in range(self.n_atrib):\n",
        "                    L[k, i] = L[k, i] + self.categorical(X[k, j], self.qa[i, j, :])\n",
        "        return L\n",
        "    "
      ],
      "metadata": {
        "id": "PE8PpZrLoxkr"
      },
      "execution_count": 9,
      "outputs": []
    },
    {
      "cell_type": "markdown",
      "source": [
        "## Train"
      ],
      "metadata": {
        "id": "3aG4fLkeqHrW"
      }
    },
    {
      "cell_type": "code",
      "execution_count": 10,
      "metadata": {
        "id": "ekrbsYD_Yigx"
      },
      "outputs": [],
      "source": [
        "#X_train, X_test, y_train, y_test\n",
        "X_train = np.asarray(X_train)\n",
        "X_test = np.asarray(X_test)\n",
        "Y_train = np.asarray(y_train)\n",
        "Y_test = np.asarray(y_test)\n",
        "\n",
        "NBC_Bernoulli = NBCbernoulli('maxLikelihood')\n",
        "NBC_Bernoulli.fit(X_train, Y_train)\n",
        "\n",
        "NBC_Categorical = NBCcategorical('maxLikelihood')\n",
        "NBC_Categorical.fit(X_train, Y_train)\n",
        "\n",
        "NBC_Bernoulli2 = NBCbernoulli('maxAPosteriori')\n",
        "NBC_Bernoulli2.fit(X_train, Y_train)\n",
        "\n",
        "NBC_Categorical2 = NBCcategorical('maxAPosteriori')\n",
        "NBC_Categorical2.fit(X_train, Y_train)\n",
        "\n"
      ]
    },
    {
      "cell_type": "markdown",
      "source": [
        "## Evaluation"
      ],
      "metadata": {
        "id": "oyQvXW5QqN_f"
      }
    },
    {
      "cell_type": "code",
      "source": [
        "y_bnb_test = NBC_Bernoulli.predict(X_test)\n",
        "evaluation_bnb_test = np.mean(y_bnb_test == Y_test)\n",
        "\n",
        "y_bnb_train = NBC_Bernoulli.predict(X_train)\n",
        "evaluation_bnb_train = np.mean(y_bnb_train == Y_train)\n",
        "\n",
        "y_cat_test = NBC_Categorical.predict(X_test)\n",
        "evaluation_cat_test = np.mean(y_cat_test == Y_test)\n",
        "\n",
        "y_cat_train = NBC_Categorical.predict(X_train)\n",
        "evaluation_cat_train = np.mean(y_cat_train == Y_train)\n",
        "\n",
        "y_bnb_test2 = NBC_Bernoulli2.predict(X_test)\n",
        "evaluation_bnb_test2 = np.mean(y_bnb_test2 == Y_test)\n",
        "\n",
        "y_bnb_train2 = NBC_Bernoulli2.predict(X_train)\n",
        "evaluation_bnb_train2 = np.mean(y_bnb_train2 == Y_train)\n",
        "\n",
        "y_cat_test2 = NBC_Categorical2.predict(X_test)\n",
        "evaluation_cat_test2 = np.mean(y_cat_test2 == Y_test)\n",
        "\n",
        "y_cat_train2 = NBC_Categorical2.predict(X_train)\n",
        "evaluation_cat_train2 = np.mean(y_cat_train2 == Y_train)"
      ],
      "metadata": {
        "id": "QjgKknf9qPy4"
      },
      "execution_count": 11,
      "outputs": []
    },
    {
      "cell_type": "code",
      "source": [
        "# Evaluamos el modelo\n",
        "print(\"Evaluacion de BNB con maxLikelihood\")\n",
        "print(f'Para el conjunto de entrenamiento: {evaluation_bnb_train*100:.2f}%')\n",
        "print(f'Para el conjunto de prueba: {evaluation_bnb_test*100:.2f}%')\n",
        "\n",
        "print(\"\\nEvaluacion de Cat con maxLikelihood\")\n",
        "print(f'Para el conjunto de entrenamiento: {evaluation_cat_train*100:.2f}%')\n",
        "print(f'Para el conjunto de prueba: {evaluation_cat_test*100:.2f}%')\n",
        "\n",
        "print(\"\\nEvaluacion de BNB con maxAPosteriori\")\n",
        "print(f'Para el conjunto de entrenamiento: {evaluation_bnb_train2*100:.2f}%')\n",
        "print(f'Para el conjunto de prueba: {evaluation_bnb_test2*100:.2f}%')\n",
        "\n",
        "print(\"\\nEvaluacion de Cat con maxAPosteriori\")\n",
        "print(f'Para el conjunto de entrenamiento: {evaluation_cat_train2*100:.2f}%')\n",
        "print(f'Para el conjunto de prueba: {evaluation_cat_test2*100:.2f}%')"
      ],
      "metadata": {
        "colab": {
          "base_uri": "https://localhost:8080/"
        },
        "id": "HRQld1tIxc5q",
        "outputId": "64a44cc2-1e68-4383-b1e9-b34751385da4"
      },
      "execution_count": 12,
      "outputs": [
        {
          "output_type": "stream",
          "name": "stdout",
          "text": [
            "Evaluacion de BNB con maxLikelihood\n",
            "Para el conjunto de entrenamiento: 70.74%\n",
            "Para el conjunto de prueba: 71.21%\n",
            "\n",
            "Evaluacion de Cat con maxLikelihood\n",
            "Para el conjunto de entrenamiento: 86.92%\n",
            "Para el conjunto de prueba: 85.51%\n",
            "\n",
            "Evaluacion de BNB con maxAPosteriori\n",
            "Para el conjunto de entrenamiento: 70.80%\n",
            "Para el conjunto de prueba: 71.30%\n",
            "\n",
            "Evaluacion de Cat con maxAPosteriori\n",
            "Para el conjunto de entrenamiento: 70.61%\n",
            "Para el conjunto de prueba: 71.21%\n"
          ]
        }
      ]
    },
    {
      "cell_type": "markdown",
      "source": [
        "# Using sklearn"
      ],
      "metadata": {
        "id": "7pGTCf5J5Lp7"
      }
    },
    {
      "cell_type": "code",
      "execution_count": 13,
      "metadata": {
        "id": "AYB_K6qPYig3"
      },
      "outputs": [],
      "source": [
        "from sklearn.naive_bayes import MultinomialNB\n",
        "from sklearn.naive_bayes import GaussianNB\n",
        "from sklearn.naive_bayes import BernoulliNB\n",
        "from sklearn.metrics import accuracy_score"
      ]
    },
    {
      "cell_type": "code",
      "source": [
        "def test_classifier(classifier, x_train, y_train, x_test, y_test):\n",
        "  model = classifier\n",
        "  model.fit(x_train, y_train)\n",
        "\n",
        "  y_train_m = np.mean(y_train == model.predict(x_train))\n",
        "  y_test_m = np.mean(y_test == model.predict(x_test))\n",
        "  \n",
        "  y_pred = model.predict(x_test)\n",
        "\n",
        "  accuracy = accuracy_score(y_test, y_pred)\n",
        "\n",
        "  # print de resultados\n",
        "  print('\\nPerformance para: ', classifier)\n",
        "  print(f'Para el conjunto de entrenamiento: {y_train_m*100:.2f}%')\n",
        "  print(f'Para el conjunto de prueba: {y_test_m*100:.2f}%')\n",
        "  print(\"Accuracy_score: \", accuracy)\n",
        " # return y_train, y_test"
      ],
      "metadata": {
        "id": "bB6Cz7gu5UW6"
      },
      "execution_count": 14,
      "outputs": []
    },
    {
      "cell_type": "code",
      "source": [
        "to_test =[MultinomialNB(), GaussianNB(),  BernoulliNB()]\n",
        "for i in range(len(to_test)):\n",
        "  classifier = to_test[i]\n",
        "  test_classifier(classifier, X_train, Y_train, X_test, Y_test)"
      ],
      "metadata": {
        "colab": {
          "base_uri": "https://localhost:8080/"
        },
        "id": "h3HJcbiG5e9y",
        "outputId": "2286f4f3-e5c5-45d8-c5b7-f5d8ffb80491"
      },
      "execution_count": 15,
      "outputs": [
        {
          "output_type": "stream",
          "name": "stdout",
          "text": [
            "\n",
            "Performance para:  MultinomialNB()\n",
            "Para el conjunto de entrenamiento: 95.68%\n",
            "Para el conjunto de prueba: 94.59%\n",
            "Accuracy_score:  0.9458937198067633\n",
            "\n",
            "Performance para:  GaussianNB()\n",
            "Para el conjunto de entrenamiento: 93.68%\n",
            "Para el conjunto de prueba: 92.95%\n",
            "Accuracy_score:  0.9294685990338164\n",
            "\n",
            "Performance para:  BernoulliNB()\n",
            "Para el conjunto de entrenamiento: 89.95%\n",
            "Para el conjunto de prueba: 90.14%\n",
            "Accuracy_score:  0.9014492753623189\n"
          ]
        }
      ]
    },
    {
      "cell_type": "markdown",
      "source": [
        "# Resultados\n",
        "Los mejores resultados se obtuvieron para nuestro clasificador \\\n",
        "Evaluacion de Cat con maxLikelihood\\\n",
        "Para el conjunto de entrenamiento: 86.92%\\\n",
        "Para el conjunto de prueba: 85.51%\\\n",
        "\\\n",
        "Por otro lado, al usar los modelos de sklearn el rendimiento mejora significativamente al usar un clasificador bayesiano con distribución mutinomial:\\\n",
        "\\\n",
        "Performance para:  MultinomialNB()\\\n",
        "Para el conjunto de entrenamiento: 95.68%\\\n",
        "Para el conjunto de prueba: 94.59%\\\n",
        "Accuracy_score:  0.9458937198067633"
      ],
      "metadata": {
        "id": "hDgWXKmuJybG"
      }
    },
    {
      "cell_type": "markdown",
      "source": [
        "# Conjunto de validación"
      ],
      "metadata": {
        "id": "0kKwtZmUKdo3"
      }
    },
    {
      "cell_type": "code",
      "source": [
        "X_validation = np.asarray(X_validation)\n",
        "Y_validation = np.asarray(Y_validation)"
      ],
      "metadata": {
        "id": "9Ed93te2Kb9C"
      },
      "execution_count": 16,
      "outputs": []
    },
    {
      "cell_type": "code",
      "source": [
        "y_cat_val = NBC_Categorical.predict(X_validation)\n",
        "evaluation_cat_validation = np.mean(y_cat_val == Y_validation)\n",
        "\n",
        "print(\"\\nEvaluacion de NB Categorico con maxLikelihood\")\n",
        "print(f'Para el conjunto de validation: {evaluation_cat_validation*100:.2f}%')"
      ],
      "metadata": {
        "colab": {
          "base_uri": "https://localhost:8080/"
        },
        "id": "qpEWRY4KK-GK",
        "outputId": "c2a03e73-55f6-42d1-cbca-5aca0673aed0"
      },
      "execution_count": 17,
      "outputs": [
        {
          "output_type": "stream",
          "name": "stdout",
          "text": [
            "\n",
            "Evaluacion de NB Categorico con maxLikelihood\n",
            "Para el conjunto de validation: 86.17%\n"
          ]
        }
      ]
    },
    {
      "cell_type": "code",
      "source": [
        "print(\"Usando el clasificador de sklear para los datos de validacion\")\n",
        "test_classifier(MultinomialNB(), X_train, Y_train, X_validation, Y_validation)"
      ],
      "metadata": {
        "colab": {
          "base_uri": "https://localhost:8080/"
        },
        "id": "SpDAxF66VLnk",
        "outputId": "1ef0ac4e-58db-4dd0-9e09-dcc57153074c"
      },
      "execution_count": 18,
      "outputs": [
        {
          "output_type": "stream",
          "name": "stdout",
          "text": [
            "Usando el clasificador de sklear para los datos de validacion\n",
            "\n",
            "Performance para:  MultinomialNB()\n",
            "Para el conjunto de entrenamiento: 95.68%\n",
            "Para el conjunto de prueba: 95.16%\n",
            "Accuracy_score:  0.9516441005802708\n"
          ]
        }
      ]
    },
    {
      "cell_type": "markdown",
      "source": [
        "Vemos que el mejor performance se obtine usando sklearn, para una distribución MultinomialNB, por otro lado para nuestros modelos los mejores resultados son para un clasificador NB con distribución categorica y usando maxLikelihood como parámetro. "
      ],
      "metadata": {
        "id": "EWh6X0L-TonB"
      }
    },
    {
      "cell_type": "code",
      "source": [],
      "metadata": {
        "id": "GEWXDF1CVDD7"
      },
      "execution_count": 18,
      "outputs": []
    }
  ],
  "metadata": {
    "kernelspec": {
      "display_name": "Python 3",
      "language": "python",
      "name": "python3"
    },
    "language_info": {
      "codemirror_mode": {
        "name": "ipython",
        "version": 3
      },
      "file_extension": ".py",
      "mimetype": "text/x-python",
      "name": "python",
      "nbconvert_exporter": "python",
      "pygments_lexer": "ipython3",
      "version": "3.7.6"
    },
    "colab": {
      "provenance": []
    }
  },
  "nbformat": 4,
  "nbformat_minor": 0
}